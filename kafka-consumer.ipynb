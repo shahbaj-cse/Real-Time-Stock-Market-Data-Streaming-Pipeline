{
 "cells": [
  {
   "cell_type": "code",
   "execution_count": 21,
   "id": "bb71e156",
   "metadata": {},
   "outputs": [],
   "source": [
    "from kafka import KafkaConsumer\n",
    "from time import sleep\n",
    "from json import dumps,loads\n",
    "import json"
   ]
  },
  {
   "cell_type": "code",
   "execution_count": 32,
   "id": "6f5d3734",
   "metadata": {},
   "outputs": [],
   "source": [
    "consumer = KafkaConsumer('stock_topic',\n",
    "                         bootstrap_servers = ['3.92.68.69:9092'],\n",
    "                        value_deserializer = lambda x: loads(x.decode('utf-8')))"
   ]
  },
  {
   "cell_type": "code",
   "execution_count": 35,
   "id": "cb8d1b8b",
   "metadata": {},
   "outputs": [],
   "source": [
    "# for c in consumer:\n",
    "#     print(c.value)"
   ]
  },
  {
   "cell_type": "code",
   "execution_count": 10,
   "id": "f039bb4d",
   "metadata": {},
   "outputs": [],
   "source": [
    "pip install s3fs"
   ]
  },
  {
   "cell_type": "code",
   "execution_count": 25,
   "id": "eef4e023",
   "metadata": {},
   "outputs": [],
   "source": [
    "from s3fs import S3FileSystem"
   ]
  },
  {
   "cell_type": "code",
   "execution_count": 26,
   "id": "4c566c7d",
   "metadata": {},
   "outputs": [],
   "source": [
    "s3 = S3FileSystem()"
   ]
  },
  {
   "cell_type": "code",
   "execution_count": 37,
   "id": "51dc6850",
   "metadata": {
    "scrolled": true
   },
   "outputs": [],
   "source": [
    "for count, i in enumerate(consumer):\n",
    "    # Open the file for writing\n",
    "    with s3.open(f's3://stock-data-consumed/stock_market_{count}.json', 'w') as file:\n",
    "        # Write JSON data to the file\n",
    "        json.dump(i.value, file)"
   ]
  },
  {
   "cell_type": "code",
   "execution_count": null,
   "id": "9ada0d7d",
   "metadata": {},
   "outputs": [],
   "source": []
  }
 ],
 "metadata": {
  "kernelspec": {
   "display_name": "Python 3 (ipykernel)",
   "language": "python",
   "name": "python3"
  },
  "language_info": {
   "codemirror_mode": {
    "name": "ipython",
    "version": 3
   },
   "file_extension": ".py",
   "mimetype": "text/x-python",
   "name": "python",
   "nbconvert_exporter": "python",
   "pygments_lexer": "ipython3",
   "version": "3.10.9"
  }
 },
 "nbformat": 4,
 "nbformat_minor": 5
}
